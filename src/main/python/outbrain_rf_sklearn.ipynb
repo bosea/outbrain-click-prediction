{
 "cells": [
  {
   "cell_type": "code",
   "execution_count": null,
   "metadata": {
    "collapsed": true
   },
   "outputs": [],
   "source": []
  },
  {
   "cell_type": "code",
   "execution_count": 38,
   "metadata": {
    "collapsed": false
   },
   "outputs": [],
   "source": [
    "import numpy as np\n",
    "import pandas as pd\n",
    "\n",
    "%matplotlib inline\n",
    "\n",
    "# load training dat\n",
    "df = pd.read_csv('./model_input/all_parts_cleaned.csv', header=0)"
   ]
  },
  {
   "cell_type": "code",
   "execution_count": 39,
   "metadata": {
    "collapsed": false
   },
   "outputs": [
    {
     "data": {
      "text/html": [
       "<div>\n",
       "<table border=\"1\" class=\"dataframe\">\n",
       "  <thead>\n",
       "    <tr style=\"text-align: right;\">\n",
       "      <th></th>\n",
       "      <th>c_display_id</th>\n",
       "      <th>c_ad_id</th>\n",
       "      <th>label</th>\n",
       "      <th>ad_document_id</th>\n",
       "      <th>ad_id</th>\n",
       "      <th>campaign_id</th>\n",
       "      <th>advertiser_id</th>\n",
       "      <th>source_id</th>\n",
       "      <th>publisher_id</th>\n",
       "      <th>topic_id_10</th>\n",
       "      <th>...</th>\n",
       "      <th>entity_id_ff6a9c05a2a77ce17b177b8c2d24b05e</th>\n",
       "      <th>entity_id_ffa53daad8b5dfd6eee3af7a1d53b6c4</th>\n",
       "      <th>display_id</th>\n",
       "      <th>on_document_id</th>\n",
       "      <th>platform</th>\n",
       "      <th>geo1</th>\n",
       "      <th>geo2</th>\n",
       "      <th>geo3</th>\n",
       "      <th>dayofweek</th>\n",
       "      <th>hours</th>\n",
       "    </tr>\n",
       "  </thead>\n",
       "  <tbody>\n",
       "    <tr>\n",
       "      <th>87571</th>\n",
       "      <td>16703830</td>\n",
       "      <td>123745</td>\n",
       "      <td>0.0</td>\n",
       "      <td>1173103</td>\n",
       "      <td>123745</td>\n",
       "      <td>15889</td>\n",
       "      <td>571</td>\n",
       "      <td>478</td>\n",
       "      <td>523</td>\n",
       "      <td>0.0</td>\n",
       "      <td>...</td>\n",
       "      <td>0.0</td>\n",
       "      <td>0.0</td>\n",
       "      <td>16703830</td>\n",
       "      <td>2792967</td>\n",
       "      <td>2</td>\n",
       "      <td>US</td>\n",
       "      <td>OH</td>\n",
       "      <td>542</td>\n",
       "      <td>0.0</td>\n",
       "      <td>21.0</td>\n",
       "    </tr>\n",
       "    <tr>\n",
       "      <th>87572</th>\n",
       "      <td>16746030</td>\n",
       "      <td>510448</td>\n",
       "      <td>0.0</td>\n",
       "      <td>1533032</td>\n",
       "      <td>510448</td>\n",
       "      <td>24063</td>\n",
       "      <td>2281</td>\n",
       "      <td>4054</td>\n",
       "      <td>9999999</td>\n",
       "      <td>0.0</td>\n",
       "      <td>...</td>\n",
       "      <td>0.0</td>\n",
       "      <td>0.0</td>\n",
       "      <td>16746030</td>\n",
       "      <td>2818835</td>\n",
       "      <td>1</td>\n",
       "      <td>US</td>\n",
       "      <td>TX</td>\n",
       "      <td>623</td>\n",
       "      <td>0.0</td>\n",
       "      <td>21.0</td>\n",
       "    </tr>\n",
       "    <tr>\n",
       "      <th>87573</th>\n",
       "      <td>16750230</td>\n",
       "      <td>154572</td>\n",
       "      <td>0.0</td>\n",
       "      <td>1381560</td>\n",
       "      <td>154572</td>\n",
       "      <td>19670</td>\n",
       "      <td>1378</td>\n",
       "      <td>6136</td>\n",
       "      <td>1071</td>\n",
       "      <td>0.0</td>\n",
       "      <td>...</td>\n",
       "      <td>0.0</td>\n",
       "      <td>0.0</td>\n",
       "      <td>16750230</td>\n",
       "      <td>2776357</td>\n",
       "      <td>1</td>\n",
       "      <td>AU</td>\n",
       "      <td>05</td>\n",
       "      <td>empty</td>\n",
       "      <td>0.0</td>\n",
       "      <td>21.0</td>\n",
       "    </tr>\n",
       "    <tr>\n",
       "      <th>87574</th>\n",
       "      <td>16803630</td>\n",
       "      <td>95725</td>\n",
       "      <td>0.0</td>\n",
       "      <td>1136820</td>\n",
       "      <td>95725</td>\n",
       "      <td>12404</td>\n",
       "      <td>2151</td>\n",
       "      <td>4224</td>\n",
       "      <td>9999999</td>\n",
       "      <td>0.0</td>\n",
       "      <td>...</td>\n",
       "      <td>0.0</td>\n",
       "      <td>0.0</td>\n",
       "      <td>16803630</td>\n",
       "      <td>1202220</td>\n",
       "      <td>2</td>\n",
       "      <td>US</td>\n",
       "      <td>CA</td>\n",
       "      <td>803</td>\n",
       "      <td>0.0</td>\n",
       "      <td>22.0</td>\n",
       "    </tr>\n",
       "    <tr>\n",
       "      <th>87575</th>\n",
       "      <td>16865630</td>\n",
       "      <td>125864</td>\n",
       "      <td>0.0</td>\n",
       "      <td>1254163</td>\n",
       "      <td>125864</td>\n",
       "      <td>16121</td>\n",
       "      <td>1896</td>\n",
       "      <td>8457</td>\n",
       "      <td>9999999</td>\n",
       "      <td>0.0</td>\n",
       "      <td>...</td>\n",
       "      <td>0.0</td>\n",
       "      <td>0.0</td>\n",
       "      <td>16865630</td>\n",
       "      <td>2798714</td>\n",
       "      <td>3</td>\n",
       "      <td>US</td>\n",
       "      <td>HI</td>\n",
       "      <td>744</td>\n",
       "      <td>0.0</td>\n",
       "      <td>23.0</td>\n",
       "    </tr>\n",
       "  </tbody>\n",
       "</table>\n",
       "<p>5 rows × 323 columns</p>\n",
       "</div>"
      ],
      "text/plain": [
       "       c_display_id  c_ad_id  label  ad_document_id   ad_id  campaign_id  \\\n",
       "87571      16703830   123745    0.0         1173103  123745        15889   \n",
       "87572      16746030   510448    0.0         1533032  510448        24063   \n",
       "87573      16750230   154572    0.0         1381560  154572        19670   \n",
       "87574      16803630    95725    0.0         1136820   95725        12404   \n",
       "87575      16865630   125864    0.0         1254163  125864        16121   \n",
       "\n",
       "       advertiser_id  source_id  publisher_id  topic_id_10  ...    \\\n",
       "87571            571        478           523          0.0  ...     \n",
       "87572           2281       4054       9999999          0.0  ...     \n",
       "87573           1378       6136          1071          0.0  ...     \n",
       "87574           2151       4224       9999999          0.0  ...     \n",
       "87575           1896       8457       9999999          0.0  ...     \n",
       "\n",
       "       entity_id_ff6a9c05a2a77ce17b177b8c2d24b05e  \\\n",
       "87571                                         0.0   \n",
       "87572                                         0.0   \n",
       "87573                                         0.0   \n",
       "87574                                         0.0   \n",
       "87575                                         0.0   \n",
       "\n",
       "       entity_id_ffa53daad8b5dfd6eee3af7a1d53b6c4  display_id  on_document_id  \\\n",
       "87571                                         0.0    16703830         2792967   \n",
       "87572                                         0.0    16746030         2818835   \n",
       "87573                                         0.0    16750230         2776357   \n",
       "87574                                         0.0    16803630         1202220   \n",
       "87575                                         0.0    16865630         2798714   \n",
       "\n",
       "       platform  geo1  geo2   geo3  dayofweek  hours  \n",
       "87571         2    US    OH    542        0.0   21.0  \n",
       "87572         1    US    TX    623        0.0   21.0  \n",
       "87573         1    AU    05  empty        0.0   21.0  \n",
       "87574         2    US    CA    803        0.0   22.0  \n",
       "87575         3    US    HI    744        0.0   23.0  \n",
       "\n",
       "[5 rows x 323 columns]"
      ]
     },
     "execution_count": 39,
     "metadata": {},
     "output_type": "execute_result"
    }
   ],
   "source": [
    "df.tail()"
   ]
  },
  {
   "cell_type": "code",
   "execution_count": 40,
   "metadata": {
    "collapsed": false
   },
   "outputs": [
    {
     "data": {
      "text/plain": [
       "87571    0.0\n",
       "87572    0.0\n",
       "87573    0.0\n",
       "87574    0.0\n",
       "87575    0.0\n",
       "Name: label, dtype: float64"
      ]
     },
     "execution_count": 40,
     "metadata": {},
     "output_type": "execute_result"
    }
   ],
   "source": [
    "dfY = df.ix[:, 'label']\n",
    "dfY.tail()"
   ]
  },
  {
   "cell_type": "code",
   "execution_count": null,
   "metadata": {
    "collapsed": false
   },
   "outputs": [],
   "source": []
  },
  {
   "cell_type": "code",
   "execution_count": 48,
   "metadata": {
    "collapsed": false
   },
   "outputs": [
    {
     "data": {
      "text/html": [
       "<div>\n",
       "<table border=\"1\" class=\"dataframe\">\n",
       "  <thead>\n",
       "    <tr style=\"text-align: right;\">\n",
       "      <th></th>\n",
       "      <th>label</th>\n",
       "      <th>ad_document_id</th>\n",
       "      <th>ad_id</th>\n",
       "      <th>campaign_id</th>\n",
       "      <th>advertiser_id</th>\n",
       "      <th>source_id</th>\n",
       "      <th>publisher_id</th>\n",
       "      <th>topic_id_10</th>\n",
       "      <th>topic_id_130</th>\n",
       "      <th>topic_id_140</th>\n",
       "      <th>...</th>\n",
       "      <th>entity_id_fed752e9bacdc0c5090b6fc8c9b23b49</th>\n",
       "      <th>entity_id_ff6a9c05a2a77ce17b177b8c2d24b05e</th>\n",
       "      <th>entity_id_ffa53daad8b5dfd6eee3af7a1d53b6c4</th>\n",
       "      <th>display_id</th>\n",
       "      <th>platform</th>\n",
       "      <th>geo1</th>\n",
       "      <th>geo2</th>\n",
       "      <th>geo3</th>\n",
       "      <th>dayofweek</th>\n",
       "      <th>hours</th>\n",
       "    </tr>\n",
       "  </thead>\n",
       "  <tbody>\n",
       "    <tr>\n",
       "      <th>87571</th>\n",
       "      <td>0.0</td>\n",
       "      <td>5467</td>\n",
       "      <td>7149</td>\n",
       "      <td>4658</td>\n",
       "      <td>393</td>\n",
       "      <td>120</td>\n",
       "      <td>250</td>\n",
       "      <td>0.0</td>\n",
       "      <td>0.0</td>\n",
       "      <td>0.0</td>\n",
       "      <td>...</td>\n",
       "      <td>0.0</td>\n",
       "      <td>0.0</td>\n",
       "      <td>0.0</td>\n",
       "      <td>86502</td>\n",
       "      <td>2</td>\n",
       "      <td>166</td>\n",
       "      <td>259</td>\n",
       "      <td>43</td>\n",
       "      <td>0.0</td>\n",
       "      <td>21.0</td>\n",
       "    </tr>\n",
       "    <tr>\n",
       "      <th>87572</th>\n",
       "      <td>0.0</td>\n",
       "      <td>9178</td>\n",
       "      <td>22904</td>\n",
       "      <td>7286</td>\n",
       "      <td>1449</td>\n",
       "      <td>663</td>\n",
       "      <td>561</td>\n",
       "      <td>0.0</td>\n",
       "      <td>0.0</td>\n",
       "      <td>0.0</td>\n",
       "      <td>...</td>\n",
       "      <td>0.0</td>\n",
       "      <td>0.0</td>\n",
       "      <td>0.0</td>\n",
       "      <td>86732</td>\n",
       "      <td>1</td>\n",
       "      <td>166</td>\n",
       "      <td>305</td>\n",
       "      <td>101</td>\n",
       "      <td>0.0</td>\n",
       "      <td>21.0</td>\n",
       "    </tr>\n",
       "    <tr>\n",
       "      <th>87573</th>\n",
       "      <td>0.0</td>\n",
       "      <td>7299</td>\n",
       "      <td>9542</td>\n",
       "      <td>5828</td>\n",
       "      <td>885</td>\n",
       "      <td>1151</td>\n",
       "      <td>484</td>\n",
       "      <td>0.0</td>\n",
       "      <td>0.0</td>\n",
       "      <td>0.0</td>\n",
       "      <td>...</td>\n",
       "      <td>0.0</td>\n",
       "      <td>0.0</td>\n",
       "      <td>0.0</td>\n",
       "      <td>86759</td>\n",
       "      <td>1</td>\n",
       "      <td>13</td>\n",
       "      <td>6</td>\n",
       "      <td>211</td>\n",
       "      <td>0.0</td>\n",
       "      <td>21.0</td>\n",
       "    </tr>\n",
       "    <tr>\n",
       "      <th>87574</th>\n",
       "      <td>0.0</td>\n",
       "      <td>4929</td>\n",
       "      <td>5689</td>\n",
       "      <td>3776</td>\n",
       "      <td>1371</td>\n",
       "      <td>710</td>\n",
       "      <td>561</td>\n",
       "      <td>0.0</td>\n",
       "      <td>0.0</td>\n",
       "      <td>0.0</td>\n",
       "      <td>...</td>\n",
       "      <td>0.0</td>\n",
       "      <td>0.0</td>\n",
       "      <td>0.0</td>\n",
       "      <td>87020</td>\n",
       "      <td>2</td>\n",
       "      <td>166</td>\n",
       "      <td>123</td>\n",
       "      <td>194</td>\n",
       "      <td>0.0</td>\n",
       "      <td>22.0</td>\n",
       "    </tr>\n",
       "    <tr>\n",
       "      <th>87575</th>\n",
       "      <td>0.0</td>\n",
       "      <td>5995</td>\n",
       "      <td>7324</td>\n",
       "      <td>4729</td>\n",
       "      <td>1219</td>\n",
       "      <td>1967</td>\n",
       "      <td>561</td>\n",
       "      <td>0.0</td>\n",
       "      <td>0.0</td>\n",
       "      <td>0.0</td>\n",
       "      <td>...</td>\n",
       "      <td>0.0</td>\n",
       "      <td>0.0</td>\n",
       "      <td>0.0</td>\n",
       "      <td>87336</td>\n",
       "      <td>3</td>\n",
       "      <td>166</td>\n",
       "      <td>171</td>\n",
       "      <td>165</td>\n",
       "      <td>0.0</td>\n",
       "      <td>23.0</td>\n",
       "    </tr>\n",
       "  </tbody>\n",
       "</table>\n",
       "<p>5 rows × 320 columns</p>\n",
       "</div>"
      ],
      "text/plain": [
       "       label  ad_document_id  ad_id  campaign_id  advertiser_id  source_id  \\\n",
       "87571    0.0            5467   7149         4658            393        120   \n",
       "87572    0.0            9178  22904         7286           1449        663   \n",
       "87573    0.0            7299   9542         5828            885       1151   \n",
       "87574    0.0            4929   5689         3776           1371        710   \n",
       "87575    0.0            5995   7324         4729           1219       1967   \n",
       "\n",
       "       publisher_id  topic_id_10  topic_id_130  topic_id_140  ...    \\\n",
       "87571           250          0.0           0.0           0.0  ...     \n",
       "87572           561          0.0           0.0           0.0  ...     \n",
       "87573           484          0.0           0.0           0.0  ...     \n",
       "87574           561          0.0           0.0           0.0  ...     \n",
       "87575           561          0.0           0.0           0.0  ...     \n",
       "\n",
       "       entity_id_fed752e9bacdc0c5090b6fc8c9b23b49  \\\n",
       "87571                                         0.0   \n",
       "87572                                         0.0   \n",
       "87573                                         0.0   \n",
       "87574                                         0.0   \n",
       "87575                                         0.0   \n",
       "\n",
       "       entity_id_ff6a9c05a2a77ce17b177b8c2d24b05e  \\\n",
       "87571                                         0.0   \n",
       "87572                                         0.0   \n",
       "87573                                         0.0   \n",
       "87574                                         0.0   \n",
       "87575                                         0.0   \n",
       "\n",
       "       entity_id_ffa53daad8b5dfd6eee3af7a1d53b6c4  display_id  platform  geo1  \\\n",
       "87571                                         0.0       86502         2   166   \n",
       "87572                                         0.0       86732         1   166   \n",
       "87573                                         0.0       86759         1    13   \n",
       "87574                                         0.0       87020         2   166   \n",
       "87575                                         0.0       87336         3   166   \n",
       "\n",
       "       geo2  geo3  dayofweek  hours  \n",
       "87571   259    43        0.0   21.0  \n",
       "87572   305   101        0.0   21.0  \n",
       "87573     6   211        0.0   21.0  \n",
       "87574   123   194        0.0   22.0  \n",
       "87575   171   165        0.0   23.0  \n",
       "\n",
       "[5 rows x 320 columns]"
      ]
     },
     "execution_count": 48,
     "metadata": {},
     "output_type": "execute_result"
    }
   ],
   "source": [
    "from sklearn import preprocessing\n",
    "\n",
    "le = preprocessing.LabelEncoder()\n",
    "df.ad_document_id = le.fit_transform(df.ad_document_id)\n",
    "\n",
    "le = preprocessing.LabelEncoder()\n",
    "df.ad_id = le.fit_transform(df.ad_id)\n",
    "\n",
    "le = preprocessing.LabelEncoder()\n",
    "df.campaign_id = le.fit_transform(df.campaign_id)\n",
    "\n",
    "le = preprocessing.LabelEncoder()\n",
    "df.advertiser_id = le.fit_transform(df.advertiser_id)\n",
    "\n",
    "le = preprocessing.LabelEncoder()\n",
    "df.source_id = le.fit_transform(df.source_id)\n",
    "\n",
    "le = preprocessing.LabelEncoder()\n",
    "df.publisher_id = le.fit_transform(df.publisher_id)\n",
    "\n",
    "le = preprocessing.LabelEncoder()\n",
    "df.display_id = le.fit_transform(df.display_id)\n",
    "\n",
    "le = preprocessing.LabelEncoder()\n",
    "df.geo1 = le.fit_transform(df.geo1)\n",
    "\n",
    "le = preprocessing.LabelEncoder()\n",
    "df.geo2 = le.fit_transform(df.geo2)\n",
    "\n",
    "le = preprocessing.LabelEncoder()\n",
    "df.geo3 = le.fit_transform(df.geo3)\n",
    "\n",
    "df2 = df.ix[:, 'label': 'hours']\n",
    "df2 = df2.drop('on_document_id', 1)\n",
    "dfX = df2.ix[:, 'ad_document_id': 'hours']\n",
    "\n",
    "df2.to_csv('./sklearn_df_saved.csv', header=1, index=False)\n",
    "\n",
    "df2.tail()"
   ]
  },
  {
   "cell_type": "code",
   "execution_count": 49,
   "metadata": {
    "collapsed": true
   },
   "outputs": [],
   "source": [
    "import pydot\n",
    "import StringIO\n",
    "from IPython.core.display import Image \n",
    "\n",
    "from sklearn.tree import DecisionTreeClassifier\n",
    "model = DecisionTreeClassifier(criterion='entropy', max_depth=10).fit(dfX, dfY)"
   ]
  },
  {
   "cell_type": "code",
   "execution_count": 37,
   "metadata": {
    "collapsed": false
   },
   "outputs": [
    {
     "ename": "NameError",
     "evalue": "name 'export_graphviz' is not defined",
     "output_type": "error",
     "traceback": [
      "\u001b[0;31m---------------------------------------------------------------------------\u001b[0m",
      "\u001b[0;31mNameError\u001b[0m                                 Traceback (most recent call last)",
      "\u001b[0;32m<ipython-input-37-01ac127964fa>\u001b[0m in \u001b[0;36m<module>\u001b[0;34m()\u001b[0m\n\u001b[1;32m      1\u001b[0m \u001b[0mommand_buf\u001b[0m \u001b[0;34m=\u001b[0m \u001b[0mStringIO\u001b[0m\u001b[0;34m.\u001b[0m\u001b[0mStringIO\u001b[0m\u001b[0;34m(\u001b[0m\u001b[0;34m)\u001b[0m\u001b[0;34m\u001b[0m\u001b[0m\n\u001b[0;32m----> 2\u001b[0;31m \u001b[0mexport_graphviz\u001b[0m\u001b[0;34m(\u001b[0m\u001b[0mmodel\u001b[0m\u001b[0;34m,\u001b[0m \u001b[0mout_file\u001b[0m\u001b[0;34m=\u001b[0m\u001b[0mcommand_buf\u001b[0m\u001b[0;34m,\u001b[0m \u001b[0mfeature_names\u001b[0m\u001b[0;34m=\u001b[0m\u001b[0mdfX\u001b[0m\u001b[0;34m.\u001b[0m\u001b[0mcolumns\u001b[0m\u001b[0;34m)\u001b[0m\u001b[0;34m\u001b[0m\u001b[0m\n\u001b[0m\u001b[1;32m      3\u001b[0m \u001b[0mgraph\u001b[0m \u001b[0;34m=\u001b[0m \u001b[0mpydot\u001b[0m\u001b[0;34m.\u001b[0m\u001b[0mgraph_from_dot_data\u001b[0m\u001b[0;34m(\u001b[0m\u001b[0mcommand_buf\u001b[0m\u001b[0;34m.\u001b[0m\u001b[0mgetvalue\u001b[0m\u001b[0;34m(\u001b[0m\u001b[0;34m)\u001b[0m\u001b[0;34m)\u001b[0m\u001b[0;34m[\u001b[0m\u001b[0;36m0\u001b[0m\u001b[0;34m]\u001b[0m\u001b[0;34m\u001b[0m\u001b[0m\n\u001b[1;32m      4\u001b[0m \u001b[0mimage\u001b[0m \u001b[0;34m=\u001b[0m \u001b[0mgraph\u001b[0m\u001b[0;34m.\u001b[0m\u001b[0mcreate_png\u001b[0m\u001b[0;34m(\u001b[0m\u001b[0;34m)\u001b[0m\u001b[0;34m\u001b[0m\u001b[0m\n\u001b[1;32m      5\u001b[0m \u001b[0mimage_buf\u001b[0m \u001b[0;34m=\u001b[0m \u001b[0mStringIO\u001b[0m\u001b[0;34m.\u001b[0m\u001b[0mStringIO\u001b[0m\u001b[0;34m(\u001b[0m\u001b[0;34m)\u001b[0m\u001b[0;34m\u001b[0m\u001b[0m\n",
      "\u001b[0;31mNameError\u001b[0m: name 'export_graphviz' is not defined"
     ]
    }
   ],
   "source": [
    "ommand_buf = StringIO.StringIO() \n",
    "export_graphviz(model, out_file=command_buf, feature_names=dfX.columns) \n",
    "graph = pydot.graph_from_dot_data(command_buf.getvalue())[0] \n",
    "image = graph.create_png()\n",
    "image_buf = StringIO.StringIO() \n",
    "image_buf.write(image)\n",
    "Image(image_buf.getvalue())"
   ]
  },
  {
   "cell_type": "code",
   "execution_count": 50,
   "metadata": {
    "collapsed": false
   },
   "outputs": [
    {
     "name": "stdout",
     "output_type": "stream",
     "text": [
      "             precision    recall  f1-score   support\n",
      "\n",
      "        0.0       0.81      0.99      0.89     70603\n",
      "        1.0       0.69      0.05      0.10     16973\n",
      "\n",
      "avg / total       0.79      0.81      0.74     87576\n",
      "\n"
     ]
    }
   ],
   "source": [
    "from sklearn.metrics import classification_report\n",
    "print(classification_report(dfY, model.predict(dfX)))"
   ]
  },
  {
   "cell_type": "code",
   "execution_count": 51,
   "metadata": {
    "collapsed": false
   },
   "outputs": [],
   "source": [
    "df2 = model.predict(dfX)\n"
   ]
  },
  {
   "cell_type": "code",
   "execution_count": 52,
   "metadata": {
    "collapsed": false
   },
   "outputs": [
    {
     "data": {
      "text/plain": [
       "array([ 0.,  0.,  0., ...,  0.,  0.,  0.])"
      ]
     },
     "execution_count": 52,
     "metadata": {},
     "output_type": "execute_result"
    }
   ],
   "source": [
    "df2"
   ]
  },
  {
   "cell_type": "code",
   "execution_count": 20,
   "metadata": {
    "collapsed": false
   },
   "outputs": [
    {
     "ename": "TypeError",
     "evalue": "'int' object is not callable",
     "output_type": "error",
     "traceback": [
      "\u001b[0;31m---------------------------------------------------------------------------\u001b[0m",
      "\u001b[0;31mTypeError\u001b[0m                                 Traceback (most recent call last)",
      "\u001b[0;32m<ipython-input-20-6cd6e7634331>\u001b[0m in \u001b[0;36m<module>\u001b[0;34m()\u001b[0m\n\u001b[0;32m----> 1\u001b[0;31m \u001b[0mdf2\u001b[0m\u001b[0;34m.\u001b[0m\u001b[0msize\u001b[0m\u001b[0;34m(\u001b[0m\u001b[0;34m)\u001b[0m\u001b[0;34m\u001b[0m\u001b[0m\n\u001b[0m",
      "\u001b[0;31mTypeError\u001b[0m: 'int' object is not callable"
     ]
    }
   ],
   "source": [
    "df2.size()\n"
   ]
  },
  {
   "cell_type": "code",
   "execution_count": 21,
   "metadata": {
    "collapsed": false
   },
   "outputs": [
    {
     "ename": "AttributeError",
     "evalue": "'numpy.ndarray' object has no attribute 'length'",
     "output_type": "error",
     "traceback": [
      "\u001b[0;31m---------------------------------------------------------------------------\u001b[0m",
      "\u001b[0;31mAttributeError\u001b[0m                            Traceback (most recent call last)",
      "\u001b[0;32m<ipython-input-21-fbb04d6f5364>\u001b[0m in \u001b[0;36m<module>\u001b[0;34m()\u001b[0m\n\u001b[0;32m----> 1\u001b[0;31m \u001b[0mdf2\u001b[0m\u001b[0;34m.\u001b[0m\u001b[0mlength\u001b[0m\u001b[0;34m(\u001b[0m\u001b[0;34m)\u001b[0m\u001b[0;34m\u001b[0m\u001b[0m\n\u001b[0m",
      "\u001b[0;31mAttributeError\u001b[0m: 'numpy.ndarray' object has no attribute 'length'"
     ]
    }
   ],
   "source": [
    "df2.length()"
   ]
  },
  {
   "cell_type": "code",
   "execution_count": 22,
   "metadata": {
    "collapsed": false
   },
   "outputs": [
    {
     "ename": "TypeError",
     "evalue": "'numpy.int64' object is not callable",
     "output_type": "error",
     "traceback": [
      "\u001b[0;31m---------------------------------------------------------------------------\u001b[0m",
      "\u001b[0;31mTypeError\u001b[0m                                 Traceback (most recent call last)",
      "\u001b[0;32m<ipython-input-22-d55836c46494>\u001b[0m in \u001b[0;36m<module>\u001b[0;34m()\u001b[0m\n\u001b[0;32m----> 1\u001b[0;31m \u001b[0mdf\u001b[0m\u001b[0;34m.\u001b[0m\u001b[0msize\u001b[0m\u001b[0;34m(\u001b[0m\u001b[0;34m)\u001b[0m\u001b[0;34m\u001b[0m\u001b[0m\n\u001b[0m",
      "\u001b[0;31mTypeError\u001b[0m: 'numpy.int64' object is not callable"
     ]
    }
   ],
   "source": [
    "df.size()"
   ]
  },
  {
   "cell_type": "code",
   "execution_count": null,
   "metadata": {
    "collapsed": true
   },
   "outputs": [],
   "source": []
  }
 ],
 "metadata": {
  "kernelspec": {
   "display_name": "Python 2",
   "language": "python",
   "name": "python2"
  },
  "language_info": {
   "codemirror_mode": {
    "name": "ipython",
    "version": 2
   },
   "file_extension": ".py",
   "mimetype": "text/x-python",
   "name": "python",
   "nbconvert_exporter": "python",
   "pygments_lexer": "ipython2",
   "version": "2.7.12"
  }
 },
 "nbformat": 4,
 "nbformat_minor": 0
}
